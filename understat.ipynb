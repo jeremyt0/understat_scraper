{
 "cells": [
  {
   "cell_type": "code",
   "execution_count": 88,
   "metadata": {},
   "outputs": [],
   "source": [
    "import requests\n",
    "from bs4 import BeautifulSoup\n",
    "import re\n",
    "import json"
   ]
  },
  {
   "cell_type": "code",
   "execution_count": 2,
   "metadata": {},
   "outputs": [],
   "source": [
    "# Parse a url and returns a soup of url\n",
    "def get_requests_soup(url):\n",
    "    r = requests.get(url)\n",
    "    soup = BeautifulSoup(r.text, 'html.parser')\n",
    "    return soup"
   ]
  },
  {
   "cell_type": "code",
   "execution_count": null,
   "metadata": {},
   "outputs": [],
   "source": [
    "# Getting all league urls from understat\n",
    "\n",
    "### Start\n",
    "url = 'https://understat.com/'\n",
    "soup = get_requests_soup(url)\n",
    "links = soup.find_all('a', attrs={'class':'link'}, href=True)\n",
    "league_urls = [url+tag['href'] for tag in links]\n",
    "\n",
    "### Loop\n",
    "\n",
    "for url in league_urls:\n",
    "    soup = get_requests_soup(url)\n",
    "    print(soup.text)\n",
    "    break  # Break after 1 loop\n",
    "print(\"Finished\")\n",
    "\n"
   ]
  },
  {
   "cell_type": "code",
   "execution_count": null,
   "metadata": {},
   "outputs": [],
   "source": [
    "## Unnecessary after dictionaries obtained from json\n",
    "def get_team_names(soup):\n",
    "    ## Get team names\n",
    "    meta = soup.find_all('meta', attrs={'name':'Keywords'})\n",
    "    keywords = [a['content'] for a in meta][0].split(',')\n",
    "#     print(keywords)\n",
    "    home_team, away_team, league, season, season_start_date = keywords[0], keywords[1], keywords[2], keywords[3], keywords[4]\n",
    "    \n",
    "    "
   ]
  },
  {
   "cell_type": "code",
   "execution_count": 58,
   "metadata": {},
   "outputs": [],
   "source": [
    "## Unnecessary after dictionaries obtained from json\n",
    "def get_xG(soup):    \n",
    "    p_bars = soup.find_all('div', attrs={'class':'progress-bar'} )\n",
    "\n",
    "    values = []\n",
    "                                         \n",
    "    for a in p_bars:\n",
    "        if 'xG' in a.text:\n",
    "            p_value = a.find_all('div', attrs={'class':'progress-value'})\n",
    "            values = [val.get_text() for val in p_value]\n",
    "            \n",
    "    return values"
   ]
  },
  {
   "cell_type": "code",
   "execution_count": 117,
   "metadata": {},
   "outputs": [],
   "source": [
    "# Get data from script tags found\n",
    "# Input soup from specific match url\n",
    "def get_json_tags(soup):\n",
    "    script = soup.find_all(\"script\", text=True)\n",
    "    \n",
    "    # Convert html json code into readable strings\n",
    "    script_tags = [s.encode('utf8').decode('unicode_escape') for s in script if 'JSON' in s.encode('utf8').decode('unicode_escape')]\n",
    "    \n",
    "    # Remove unecessary characters and parse a clean string of the json \n",
    "    jsons = []\n",
    "    for script_tag in script_tags:\n",
    "        all_json = re.findall(r\"JSON.parse\\('([^']*)\", script_tag)\n",
    "        for j in all_json:\n",
    "            jsons.append(j)\n",
    "    \n",
    "    # Declare some dictionaries\n",
    "    shots_data = {}      # 0 index\n",
    "    match_info = {}      # 1\n",
    "    rosters_data = {}    # 2\n",
    "#     promotion_data = {}  # 3 - No idea what this is\n",
    "    \n",
    "#     print(len(jsons))\n",
    "    if jsons:\n",
    "        shots_data = json.loads(jsons[0])\n",
    "        match_info = json.loads(jsons[1])\n",
    "        rosters_data = json.loads(jsons[2])\n",
    "#         promotion_data = json.loads(jsons[3])\n",
    "        \n",
    "    return shots_data, match_info, rosters_data\n",
    "        \n",
    "    "
   ]
  },
  {
   "cell_type": "code",
   "execution_count": 119,
   "metadata": {},
   "outputs": [
    {
     "name": "stdout",
     "output_type": "stream",
     "text": [
      "Main - Start\n",
      "4\n",
      "Home xG: 0.500436\n",
      "Away xG: 1.37204\n",
      "Main - Finished.\n"
     ]
    }
   ],
   "source": [
    "def main():\n",
    "    print(\"Main - Start\")\n",
    "    \n",
    "    url = 'https://understat.com/match/14598'\n",
    "    soup = get_requests_soup(url)\n",
    "    \n",
    "    shots_data, match_info, rosters_data = get_json_tags(soup)\n",
    "    \n",
    "    print(f'Home xG: {match_info[\"h_xg\"]}')\n",
    "    print(f'Away xG: {match_info[\"a_xg\"]}')\n",
    "    \n",
    "    \n",
    "    print(\"Main - Finished.\")\n",
    "    \n",
    "main()"
   ]
  },
  {
   "cell_type": "code",
   "execution_count": null,
   "metadata": {},
   "outputs": [],
   "source": []
  }
 ],
 "metadata": {
  "kernelspec": {
   "display_name": "Python 3",
   "language": "python",
   "name": "python3"
  },
  "language_info": {
   "codemirror_mode": {
    "name": "ipython",
    "version": 3
   },
   "file_extension": ".py",
   "mimetype": "text/x-python",
   "name": "python",
   "nbconvert_exporter": "python",
   "pygments_lexer": "ipython3",
   "version": "3.8.5"
  }
 },
 "nbformat": 4,
 "nbformat_minor": 4
}
